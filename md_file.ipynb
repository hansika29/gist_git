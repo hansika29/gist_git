{
 "cells": [
  {
   "cell_type": "markdown",
   "metadata": {},
   "source": [
    "# title\n",
    "## subtitle\n",
    "### heading\n",
    "#### subheading"
   ]
  },
  {
   "cell_type": "markdown",
   "metadata": {},
   "source": [
    "### next one is order list and unordered list\n",
    "- outdoor games\n",
    "    1.cricket\n",
    "    2.football\n",
    "    3.tennis\n",
    "    4.hockey\n",
    " - indoor games\n",
    "     1.chess\n",
    "     2.carroms\n",
    "     3.ludo\n",
    "     4.snake & ladders"
   ]
  },
  {
   "cell_type": "markdown",
   "metadata": {},
   "source": [
    "#### how to place horizontal lines in markdown\n",
    "***\n",
    "    1.git\n",
    "    2.python\n",
    "    3.numpy\n",
    "    4.pandas\n",
    "    5.matplot lib\n",
    "    6.seaborn\n",
    "***"
   ]
  },
  {
   "cell_type": "markdown",
   "metadata": {},
   "source": [
    "#### text will convert italic and bold using markdown\n",
    "\n",
    "- this is normal text\n",
    "- *this ia s italic text*\n",
    "- **this is a bold text**\n",
    "- this is a *italic* and **bold**"
   ]
  },
  {
   "cell_type": "markdown",
   "metadata": {},
   "source": [
    "#### how to add hyper links using markdown\n",
    "- [GOOGLE](https://www.goggle.com)\n",
    "- [FACEBOOK](https://www.facebook.com)\n",
    "- [APSSDC](https://www.apssdc.in/)"
   ]
  },
  {
   "cell_type": "markdown",
   "metadata": {},
   "source": [
    "### how to get images using markdown\n",
    "- ![image](https://th.bing.com/th/id/Rc1229ff60a4c26f1c6af0c20da169a19?rik=RdaOvVATDJnuqg&pid=ImgRaw)"
   ]
  },
  {
   "cell_type": "code",
   "execution_count": null,
   "metadata": {},
   "outputs": [],
   "source": []
  }
 ],
 "metadata": {
  "kernelspec": {
   "display_name": "Python 3",
   "language": "python",
   "name": "python3"
  },
  "language_info": {
   "codemirror_mode": {
    "name": "ipython",
    "version": 3
   },
   "file_extension": ".py",
   "mimetype": "text/x-python",
   "name": "python",
   "nbconvert_exporter": "python",
   "pygments_lexer": "ipython3",
   "version": "3.8.5"
  }
 },
 "nbformat": 4,
 "nbformat_minor": 4
}
